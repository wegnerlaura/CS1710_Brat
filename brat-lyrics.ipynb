{
 "cells": [
  {
   "cell_type": "code",
   "execution_count": 21,
   "id": "f22545db-588c-49c0-acff-f899b77d3c6a",
   "metadata": {},
   "outputs": [],
   "source": [
    "import pandas as pd\n",
    "import re\n",
    "from collections import defaultdict"
   ]
  },
  {
   "cell_type": "code",
   "execution_count": 22,
   "id": "6b3261ba-bf01-44b3-9408-df1e7b8e49d0",
   "metadata": {},
   "outputs": [
    {
     "name": "stdout",
     "output_type": "stream",
     "text": [
      "/Users/sabamehrzad/Desktop/CS171/Final Project/CS1710_Brat/data\n"
     ]
    }
   ],
   "source": [
    "import os\n",
    "print(os.getcwd())"
   ]
  },
  {
   "cell_type": "code",
   "execution_count": 23,
   "id": "9ee17c22-eb76-499d-83d2-69117d2ca9b1",
   "metadata": {},
   "outputs": [
    {
     "name": "stdout",
     "output_type": "stream",
     "text": [
      "/Users/sabamehrzad/Desktop/CS171/Final Project/CS1710_Brat/data\n"
     ]
    }
   ],
   "source": [
    "os.chdir(\"/Users/sabamehrzad/Desktop/CS171/Final Project/CS1710_Brat/data\")\n",
    "print(os.getcwd())"
   ]
  },
  {
   "cell_type": "code",
   "execution_count": 24,
   "id": "e2ebc8ab-0025-4775-8aec-1d8fa3927a21",
   "metadata": {},
   "outputs": [],
   "source": [
    "def process_album_lyrics(lyrics_data):\n",
    "    stop_words = set([\n",
    "        \"a\", \"the\", \"and\", \"is\", \"in\", \"of\", \"to\", \"for\", \"on\", \"it\"\n",
    "    ])\n",
    "    word_freq_by_song = defaultdict(lambda: defaultdict(int))\n",
    "    total_word_freq = defaultdict(int)\n",
    "    \n",
    "    # Process each song's lyrics\n",
    "    for song in lyrics_data:\n",
    "        # Normalize and clean text\n",
    "        words = re.findall(r'\\b\\w+\\b', song['lyrics'].lower())\n",
    "        \n",
    "        # Count words for this specific song and total\n",
    "        for word in words:\n",
    "            if word not in stop_words:\n",
    "                word_freq_by_song[song['name']][word] += 1\n",
    "                total_word_freq[word] += 1\n",
    "    \n",
    "    # Prepare data for DataFrame\n",
    "    word_data = []\n",
    "    \n",
    "    # Get unique words across all songs\n",
    "    all_words = set(total_word_freq.keys())\n",
    "    for song in word_freq_by_song:\n",
    "        all_words.update(word_freq_by_song[song].keys())\n",
    "    \n",
    "    # Create comprehensive data structure\n",
    "    for word in all_words:\n",
    "        row_data = {\n",
    "            'word': word,\n",
    "            'total_quantity': total_word_freq[word]\n",
    "        }\n",
    "        \n",
    "        # Add song-specific quantities\n",
    "        for song in word_freq_by_song:\n",
    "            row_data[song] = word_freq_by_song[song].get(word, 0)\n",
    "        \n",
    "        word_data.append(row_data)\n",
    "    \n",
    "    # Convert to DataFrame\n",
    "    df = pd.DataFrame(word_data)\n",
    "    \n",
    "    # Reorder columns: word, total_quantity, then song-specific columns\n",
    "    column_order = ['word', 'total_quantity'] + sorted(word_freq_by_song.keys())\n",
    "    df = df[column_order]\n",
    "    \n",
    "    return df"
   ]
  },
  {
   "cell_type": "code",
   "execution_count": 25,
   "id": "7117fa08-9bc0-4f87-bf21-2664d99890d3",
   "metadata": {},
   "outputs": [],
   "source": [
    "def import_lyrics_data(csv_path):\n",
    "    df = pd.read_csv('brat-lyrics.csv')\n",
    "    lyrics_data = df.to_dict('records')\n",
    "    return lyrics_data"
   ]
  },
  {
   "cell_type": "code",
   "execution_count": 26,
   "id": "8dc365fd-cc8c-4dd7-85c7-f156f392c083",
   "metadata": {},
   "outputs": [
    {
     "name": "stdout",
     "output_type": "stream",
     "text": [
      "      word  total_quantity  360  360 featuring robyn & yung lean  365  \\\n",
      "0     with              40    2                                4    0   \n",
      "1  classic              10    0                                0    0   \n",
      "2   common               3    0                                0    0   \n",
      "3     deal               2    0                                0    0   \n",
      "4   castle               3    0                                3    0   \n",
      "\n",
      "   365 featuring shygirl  Apple  Apple featuring the japanese house  B2b  \\\n",
      "0                      0      0                                   0    0   \n",
      "1                      0      0                                   0    0   \n",
      "2                      0      0                                   0    0   \n",
      "3                      0      0                                   0    0   \n",
      "4                      0      0                                   0    0   \n",
      "\n",
      "   B2b featuring tinashe  ...  So I  So I featuring a. g. cook  \\\n",
      "0                      0  ...     0                          4   \n",
      "1                      0  ...     0                          0   \n",
      "2                      0  ...     0                          0   \n",
      "3                      0  ...     0                          0   \n",
      "4                      0  ...     0                          0   \n",
      "\n",
      "   Spring breakers  Spring breakers featuring kesha  Sympathy is a knife  \\\n",
      "0                2                                0                    1   \n",
      "1                0                                0                    0   \n",
      "2                0                                0                    0   \n",
      "3                0                                0                    0   \n",
      "4                0                                0                    0   \n",
      "\n",
      "   Sympathy is a knife featuring ariana grande  Talk talk  \\\n",
      "0                                            0          0   \n",
      "1                                            0          0   \n",
      "2                                            0          0   \n",
      "3                                            0          0   \n",
      "4                                            0          0   \n",
      "\n",
      "   Talk talk featuring troye sivan  Von dutch  \\\n",
      "0                                2          0   \n",
      "1                                0          5   \n",
      "2                                0          0   \n",
      "3                                0          0   \n",
      "4                                0          0   \n",
      "\n",
      "   Von dutch a. g. cook remix featuring addison rae  \n",
      "0                                                 1  \n",
      "1                                                 5  \n",
      "2                                                 0  \n",
      "3                                                 0  \n",
      "4                                                 0  \n",
      "\n",
      "[5 rows x 37 columns]\n"
     ]
    }
   ],
   "source": [
    "if __name__ == \"__main__\":\n",
    "    csv_path = 'brat-lyrics.csv'\n",
    "    \n",
    "    lyrics_data = import_lyrics_data(csv_path)\n",
    "    \n",
    "    word_cloud_df = process_album_lyrics(lyrics_data)\n",
    "    \n",
    "    word_cloud_df.to_csv('album_word_frequencies.csv', index=False)\n",
    "    \n",
    "    print(word_cloud_df.head())"
   ]
  },
  {
   "cell_type": "code",
   "execution_count": null,
   "id": "6f1ba89d-a9cc-48b7-b744-13aeb89df14c",
   "metadata": {},
   "outputs": [],
   "source": []
  }
 ],
 "metadata": {
  "kernelspec": {
   "display_name": "Python 3 (ipykernel)",
   "language": "python",
   "name": "python3"
  },
  "language_info": {
   "codemirror_mode": {
    "name": "ipython",
    "version": 3
   },
   "file_extension": ".py",
   "mimetype": "text/x-python",
   "name": "python",
   "nbconvert_exporter": "python",
   "pygments_lexer": "ipython3",
   "version": "3.13.0"
  }
 },
 "nbformat": 4,
 "nbformat_minor": 5
}
